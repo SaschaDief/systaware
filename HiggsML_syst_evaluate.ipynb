{
 "cells": [
  {
   "cell_type": "code",
   "execution_count": 1,
   "metadata": {},
   "outputs": [],
   "source": [
    "from __future__ import division\n",
    "import numpy as np\n",
    "import matplotlib.pyplot as plt\n",
    "from matplotlib import gridspec\n",
    "from matplotlib import colors\n",
    "import pandas as pd\n",
    "from pickle import load\n",
    "\n",
    "from sklearn.metrics import roc_auc_score"
   ]
  },
  {
   "cell_type": "code",
   "execution_count": 2,
   "metadata": {},
   "outputs": [],
   "source": [
    "loadAndPlot = False\n",
    "#loadAndPlot = True"
   ]
  },
  {
   "cell_type": "code",
   "execution_count": 3,
   "metadata": {},
   "outputs": [],
   "source": [
    "def seed_everything(seed=0):\n",
    "    #random.seed(seed)\n",
    "    #os.environ['PYTHONHASHSEED'] = str(seed)\n",
    "    np.random.seed(seed)\n",
    "    #torch.manual_seed(seed)\n",
    "    #torch.cuda.manual_seed(seed)\n",
    "    #torch.cuda.manual_seed_all(seed)\n",
    "    #torch.backends.cudnn.deterministic = True\n",
    "    #tf keras\n",
    "seed_everything(0)"
   ]
  },
  {
   "cell_type": "markdown",
   "metadata": {},
   "source": [
    "# Configure tunable params"
   ]
  },
  {
   "cell_type": "code",
   "execution_count": 4,
   "metadata": {},
   "outputs": [],
   "source": [
    "#cmapp = plt.get_cmap(\"RdYlBu\")\n",
    "\n",
    "plotDir = \"plots/\"\n",
    "\n",
    "batch_size = 4*1024\n",
    "\n",
    "#nBins of NN Score histogram\n",
    "nBins = 30\n",
    "\n",
    "# mu values to scan\n",
    "mu_values = np.arange(0,50)/10"
   ]
  },
  {
   "cell_type": "code",
   "execution_count": 5,
   "metadata": {},
   "outputs": [],
   "source": [
    "clfCol = \"b\"; aweCol = \"g\"; augCol = \"y\"; invCol = \"r\"; clfNomCol = \"k\""
   ]
  },
  {
   "cell_type": "markdown",
   "metadata": {},
   "source": [
    "## z_syst list (reduced list to run faster)"
   ]
  },
  {
   "cell_type": "code",
   "execution_count": 6,
   "metadata": {},
   "outputs": [],
   "source": [
    "z_syst_plot =  np.sort(np.concatenate([np.array([0.8, 0.84]), np.arange(88,115)/100]))\n",
    "z_syst = z_syst_plot\n",
    "\n",
    "systUp = 1.1\n",
    "systDown = 0.8\n",
    "z_nominal = 1."
   ]
  },
  {
   "cell_type": "markdown",
   "metadata": {},
   "source": [
    "# Load Dataset"
   ]
  },
  {
   "cell_type": "code",
   "execution_count": 7,
   "metadata": {},
   "outputs": [],
   "source": [
    "try:\n",
    "    # Python 2\n",
    "    xrange\n",
    "except NameError:\n",
    "    # Python 3, xrange is now named range\n",
    "    xrange = range"
   ]
  },
  {
   "cell_type": "code",
   "execution_count": 8,
   "metadata": {},
   "outputs": [],
   "source": [
    "# train-test split done according to event number\n",
    "\n",
    "# load the scaler\n",
    "scaler = load(open('HiggsModels/scaler.pkl', 'rb'))\n",
    "\n",
    "def loadSystData(z_val):\n",
    "    from util import train_test_split_evtNo\n",
    "    from dataLoc import dataLoc\n",
    "    fileName = dataLoc +\"HiggsML_TES_{}.h5\".format(z_val)\n",
    "    print (\"Loading file: \",fileName)\n",
    "    \n",
    "    data = pd.read_hdf(fileName, \"data_syst\")\n",
    "    data = data.sample(frac=1).reset_index(drop=False) #shuffle the events\n",
    "    target = data[\"Label\"]\n",
    "    weights = data[\"Weight\"]\n",
    "    Z = data[\"Z\"]\n",
    "    evtNo = data[\"index\"]\n",
    "    del data[\"Label\"]\n",
    "    del data[\"Z\"]\n",
    "    del data[\"Weight\"]\n",
    "    del data[\"index\"]\n",
    "\n",
    "\n",
    "    data = data.values\n",
    "    target = target.values\n",
    "    weights = weights.values\n",
    "    Z = Z.values\n",
    "    evtNo = evtNo.values\n",
    "    \n",
    "    assert (Z == Z[0]).all() # files contain only 1 z\n",
    "    \n",
    "        \n",
    "    X_syst_train, X_syst_test, Y_syst_train, Y_syst_test, Z_syst_train, Z_syst_test, weights_train, weights_test  = train_test_split_evtNo(\n",
    "        data, target, Z, weights,evtNo=evtNo,n=3)\n",
    "\n",
    "    del X_syst_train, Y_syst_train, Z_syst_train, weights_train\n",
    "    \n",
    "    ## load the scaler\n",
    "    X_syst_test = scaler.transform(X_syst_test)\n",
    "    \n",
    "    class_weights = weights[target == 0].sum(), weights[target == 1].sum()\n",
    "\n",
    "    class_weights_test = weights_test[Y_syst_test == 0].sum(), weights_test[Y_syst_test == 1].sum(), weights_test[Y_syst_test == 2].sum()\n",
    "    scale_up = 1.\n",
    "    for i in xrange(2):\n",
    "        weights_test[Y_syst_test == i] *= class_weights[i]/class_weights_test[i]\n",
    "        \n",
    "    del data, target, weights, Z\n",
    "    \n",
    "    return X_syst_test, Y_syst_test, Z_syst_test, weights_test\n",
    "\n"
   ]
  },
  {
   "cell_type": "markdown",
   "metadata": {},
   "source": [
    "# Load Clf Model"
   ]
  },
  {
   "cell_type": "code",
   "execution_count": 9,
   "metadata": {},
   "outputs": [],
   "source": [
    "import os\n",
    "os.environ[\"CUDA_VISIBLE_DEVICES\"] = \"-1\"\n",
    "#os.environ[\"CUDA_VISIBLE_DEVICES\"] = \"0\"\n",
    "#os.environ[\"CUDA_VISIBLE_DEVICES\"] = \"3\""
   ]
  },
  {
   "cell_type": "code",
   "execution_count": 10,
   "metadata": {},
   "outputs": [
    {
     "name": "stderr",
     "output_type": "stream",
     "text": [
      "/opt/anaconda3/envs/shared_env/lib/python3.6/site-packages/tensorflow/python/framework/dtypes.py:523: FutureWarning: Passing (type, 1) or '1type' as a synonym of type is deprecated; in a future version of numpy, it will be understood as (type, (1,)) / '(1,)type'.\n",
      "  _np_qint8 = np.dtype([(\"qint8\", np.int8, 1)])\n",
      "/opt/anaconda3/envs/shared_env/lib/python3.6/site-packages/tensorflow/python/framework/dtypes.py:524: FutureWarning: Passing (type, 1) or '1type' as a synonym of type is deprecated; in a future version of numpy, it will be understood as (type, (1,)) / '(1,)type'.\n",
      "  _np_quint8 = np.dtype([(\"quint8\", np.uint8, 1)])\n",
      "/opt/anaconda3/envs/shared_env/lib/python3.6/site-packages/tensorflow/python/framework/dtypes.py:525: FutureWarning: Passing (type, 1) or '1type' as a synonym of type is deprecated; in a future version of numpy, it will be understood as (type, (1,)) / '(1,)type'.\n",
      "  _np_qint16 = np.dtype([(\"qint16\", np.int16, 1)])\n",
      "/opt/anaconda3/envs/shared_env/lib/python3.6/site-packages/tensorflow/python/framework/dtypes.py:526: FutureWarning: Passing (type, 1) or '1type' as a synonym of type is deprecated; in a future version of numpy, it will be understood as (type, (1,)) / '(1,)type'.\n",
      "  _np_quint16 = np.dtype([(\"quint16\", np.uint16, 1)])\n",
      "/opt/anaconda3/envs/shared_env/lib/python3.6/site-packages/tensorflow/python/framework/dtypes.py:527: FutureWarning: Passing (type, 1) or '1type' as a synonym of type is deprecated; in a future version of numpy, it will be understood as (type, (1,)) / '(1,)type'.\n",
      "  _np_qint32 = np.dtype([(\"qint32\", np.int32, 1)])\n",
      "/opt/anaconda3/envs/shared_env/lib/python3.6/site-packages/tensorflow/python/framework/dtypes.py:532: FutureWarning: Passing (type, 1) or '1type' as a synonym of type is deprecated; in a future version of numpy, it will be understood as (type, (1,)) / '(1,)type'.\n",
      "  np_resource = np.dtype([(\"resource\", np.ubyte, 1)])\n"
     ]
    }
   ],
   "source": [
    "if not loadAndPlot:\n",
    "    from tensorflow import keras"
   ]
  },
  {
   "cell_type": "code",
   "execution_count": 11,
   "metadata": {},
   "outputs": [],
   "source": [
    "if not loadAndPlot:\n",
    "    nominal_model = keras.models.load_model(\"HiggsModels/clf.h5\")"
   ]
  },
  {
   "cell_type": "markdown",
   "metadata": {},
   "source": [
    "# Load Data Augmented Model"
   ]
  },
  {
   "cell_type": "code",
   "execution_count": 12,
   "metadata": {},
   "outputs": [],
   "source": [
    "aug_NN = True\n",
    "if not loadAndPlot:\n",
    "    augmented_model = keras.models.load_model(\"HiggsModels/aug.h5\")"
   ]
  },
  {
   "cell_type": "markdown",
   "metadata": {},
   "source": [
    "# Load Up/Down Model"
   ]
  },
  {
   "cell_type": "code",
   "execution_count": 13,
   "metadata": {},
   "outputs": [],
   "source": [
    "if not loadAndPlot:\n",
    "    down_model = keras.models.load_model(\"HiggsModels/down_model.h5\")"
   ]
  },
  {
   "cell_type": "code",
   "execution_count": 14,
   "metadata": {},
   "outputs": [],
   "source": [
    "if not loadAndPlot:\n",
    "    up_model = keras.models.load_model(\"HiggsModels/up_model.h5\")"
   ]
  },
  {
   "cell_type": "markdown",
   "metadata": {},
   "source": [
    "# Load Syst Aware Model"
   ]
  },
  {
   "cell_type": "code",
   "execution_count": 15,
   "metadata": {},
   "outputs": [],
   "source": [
    "if not loadAndPlot:\n",
    "    aware_model = keras.models.load_model(\"HiggsModels/AwareModel.h5\")"
   ]
  },
  {
   "cell_type": "markdown",
   "metadata": {},
   "source": [
    "# Load Pivot"
   ]
  },
  {
   "cell_type": "code",
   "execution_count": 16,
   "metadata": {},
   "outputs": [
    {
     "name": "stdout",
     "output_type": "stream",
     "text": [
      "WARNING:tensorflow:No training configuration found in save file: the model was *not* compiled. Compile it manually.\n"
     ]
    }
   ],
   "source": [
    "if not loadAndPlot:\n",
    "    inv_model = keras.models.load_model('HiggsModels/invariant_model.h5')"
   ]
  },
  {
   "cell_type": "markdown",
   "metadata": {},
   "source": [
    "#  Likelihood Fits"
   ]
  },
  {
   "cell_type": "code",
   "execution_count": 17,
   "metadata": {},
   "outputs": [],
   "source": [
    "z_std = 0.05"
   ]
  },
  {
   "cell_type": "code",
   "execution_count": 18,
   "metadata": {},
   "outputs": [],
   "source": [
    "mu_test = 1.\n",
    "#mu_test = 2."
   ]
  },
  {
   "cell_type": "code",
   "execution_count": 19,
   "metadata": {},
   "outputs": [],
   "source": [
    "def nll_stat(N,S,B,mu):\n",
    "    from scipy.special import loggamma\n",
    "    nexp=mu*S+B\n",
    "    nll_stat = - (N* np.log(nexp) - nexp - loggamma(N) ) # Poisson\n",
    "    if np.isinf(nll_stat):\n",
    "        print (N, nexp)\n",
    "    return nll_stat\n",
    "\n",
    "def nll_syst(dTheta, sigma=1):\n",
    "    nll_syst = - (np.log (1/(sigma*np.sqrt(2*np.pi))) + (-0.5 * (dTheta/sigma)**2))\n",
    "    return nll_syst"
   ]
  },
  {
   "cell_type": "markdown",
   "metadata": {},
   "source": [
    "# Build 2D histograms of NLL "
   ]
  },
  {
   "cell_type": "code",
   "execution_count": 20,
   "metadata": {},
   "outputs": [],
   "source": [
    "# Assumes each HDF file has events for one fixed z value\n",
    "\n",
    "def buildTemplates(model, clfName,nBins=nBins):\n",
    "    sig_hists = []\n",
    "    back_hists = []\n",
    "    for z_val in z_syst:\n",
    "        X_syst_test, Y_syst_test, Z_syst_test, weights_test = loadSystData(z_val)\n",
    "        zEvents = np.array([True] * len(Z_syst_test)) # for legacy reasons\n",
    "        if (clfName == \"Aware\"):\n",
    "            print (\"Not Currently Supported for analyticial aware classifier\")\n",
    "            Y_pred_model = model.predict(x=[X_syst_test,Z_syst_test], batch_size=batch_size).reshape(-1)\n",
    "        elif (clfName == \"Nominal\") or (clfName == \"Augmented\") or (clfName == \"Invariant\") or (clfName == \"Down\") or (clfName == \"Up\") :\n",
    "            if (clfName == \"Augmented\") and (not aug_NN):\n",
    "                Y_pred_model = model.predict_proba(X_syst_test)[:,1].reshape(-1)\n",
    "            else:\n",
    "                Y_pred_model = model.predict(X_syst_test, batch_size=batch_size).reshape(-1)\n",
    "        else:\n",
    "            print (\"Unexpected Clf name!!\")\n",
    "            \n",
    "        hist_sig, bin_array = np.histogram(\n",
    "            Y_pred_model[zEvents &(Y_syst_test==1)], \n",
    "            weights=weights_test[zEvents &(Y_syst_test==1)], range=(0,1), bins=nBins)\n",
    "        hist_back, bin_array = np.histogram(\n",
    "            Y_pred_model[zEvents &(Y_syst_test==0)], \n",
    "            weights=weights_test[zEvents &(Y_syst_test==0)], range=(0,1), bins=nBins)\n",
    "            \n",
    "        sig_hists.append(hist_sig)\n",
    "        back_hists.append(hist_back)\n",
    "        \n",
    "    del X_syst_test, Y_syst_test, Z_syst_test, weights_test\n",
    "    \n",
    "    sig_hists = np.array(sig_hists)\n",
    "    back_hists = np.array(back_hists)\n",
    "    return sig_hists, back_hists"
   ]
  },
  {
   "cell_type": "code",
   "execution_count": 21,
   "metadata": {},
   "outputs": [],
   "source": [
    "def plotNLLCurves(x, y_list, label_list, color_list, linestyle_list, testDataLabel,\n",
    "                  ylimRatio=[0.8, 1.2], xlim=[0.5,1.5], legendOrder=None):\n",
    "    # assumes last y is reference\n",
    "    ref_y = y_list[-1]\n",
    "    \n",
    "    fig = plt.figure(figsize=(5, 5)) \n",
    "    gs = gridspec.GridSpec(2, 1, height_ratios=[5, 1]) \n",
    "    gs.update(wspace=0.025, hspace=0.025)\n",
    "    ax0 = plt.subplot(gs[0])\n",
    "    plt.ylabel(r'NLL - min(NLL)', fontsize=15)\n",
    "    \n",
    "    for (y, lab, col, ls) in zip(y_list, label_list, color_list, linestyle_list):\n",
    "        ax0.plot(x,y, label=lab, color=col, linestyle=ls)\n",
    "    ax0.set_ylim([-0.08, 2])\n",
    "    ax0.set_xlim(xlim)\n",
    "    if (legendOrder is None):\n",
    "        plt.legend(prop={'size': 15}, loc=\"lower right\")\n",
    "    else:\n",
    "        handles, labels = ax0.get_legend_handles_labels()\n",
    "        # re-order and legend in one step\n",
    "        ax0.legend([handles[i] for i in legendOrder], [labels[i] for i in legendOrder],\n",
    "                  prop={'size': 14.1}, loc=(-0.175,1.04), handletextpad=0.1, borderpad=0.1,\n",
    "                  handlelength=1, ncol=2 ) \n",
    "    \n",
    "    ax1 = plt.subplot(gs[1], sharex = ax0) # sharing not working\n",
    "    for (y, lab, col, ls) in zip(y_list, label_list, color_list, linestyle_list):\n",
    "        ratio_y = y/ref_y\n",
    "        ax1.plot(x[~np.isnan(ratio_y)],ratio_y[~np.isnan(ratio_y)], label=lab, color=col, linestyle=ls)\n",
    "    ax1.set_ylim(ylimRatio)\n",
    "    ax1.set_xlim(xlim)\n",
    "    plt.xlabel(r'$\\mu$', fontsize=20)\n",
    "    plt.ylabel(r'ratio', fontsize=15)\n",
    "    plt.tight_layout()"
   ]
  },
  {
   "cell_type": "markdown",
   "metadata": {},
   "source": [
    "## Usual Classifier (trained on Nominal only)"
   ]
  },
  {
   "cell_type": "code",
   "execution_count": 22,
   "metadata": {},
   "outputs": [
    {
     "name": "stdout",
     "output_type": "stream",
     "text": [
      "Loading file:  /data1/users/aishik/systcovariant_data/HiggsML_TES_0.8.h5\n",
      "Loading file:  /data1/users/aishik/systcovariant_data/HiggsML_TES_0.84.h5\n",
      "Loading file:  /data1/users/aishik/systcovariant_data/HiggsML_TES_0.88.h5\n",
      "Loading file:  /data1/users/aishik/systcovariant_data/HiggsML_TES_0.89.h5\n",
      "Loading file:  /data1/users/aishik/systcovariant_data/HiggsML_TES_0.9.h5\n",
      "Loading file:  /data1/users/aishik/systcovariant_data/HiggsML_TES_0.91.h5\n",
      "Loading file:  /data1/users/aishik/systcovariant_data/HiggsML_TES_0.92.h5\n",
      "Loading file:  /data1/users/aishik/systcovariant_data/HiggsML_TES_0.93.h5\n",
      "Loading file:  /data1/users/aishik/systcovariant_data/HiggsML_TES_0.94.h5\n",
      "Loading file:  /data1/users/aishik/systcovariant_data/HiggsML_TES_0.95.h5\n",
      "Loading file:  /data1/users/aishik/systcovariant_data/HiggsML_TES_0.96.h5\n",
      "Loading file:  /data1/users/aishik/systcovariant_data/HiggsML_TES_0.97.h5\n",
      "Loading file:  /data1/users/aishik/systcovariant_data/HiggsML_TES_0.98.h5\n",
      "Loading file:  /data1/users/aishik/systcovariant_data/HiggsML_TES_0.99.h5\n",
      "Loading file:  /data1/users/aishik/systcovariant_data/HiggsML_TES_1.0.h5\n",
      "Loading file:  /data1/users/aishik/systcovariant_data/HiggsML_TES_1.01.h5\n",
      "Loading file:  /data1/users/aishik/systcovariant_data/HiggsML_TES_1.02.h5\n",
      "Loading file:  /data1/users/aishik/systcovariant_data/HiggsML_TES_1.03.h5\n",
      "Loading file:  /data1/users/aishik/systcovariant_data/HiggsML_TES_1.04.h5\n",
      "Loading file:  /data1/users/aishik/systcovariant_data/HiggsML_TES_1.05.h5\n",
      "Loading file:  /data1/users/aishik/systcovariant_data/HiggsML_TES_1.06.h5\n",
      "Loading file:  /data1/users/aishik/systcovariant_data/HiggsML_TES_1.07.h5\n",
      "Loading file:  /data1/users/aishik/systcovariant_data/HiggsML_TES_1.08.h5\n",
      "Loading file:  /data1/users/aishik/systcovariant_data/HiggsML_TES_1.09.h5\n",
      "Loading file:  /data1/users/aishik/systcovariant_data/HiggsML_TES_1.1.h5\n",
      "Loading file:  /data1/users/aishik/systcovariant_data/HiggsML_TES_1.11.h5\n",
      "Loading file:  /data1/users/aishik/systcovariant_data/HiggsML_TES_1.12.h5\n",
      "Loading file:  /data1/users/aishik/systcovariant_data/HiggsML_TES_1.13.h5\n",
      "Loading file:  /data1/users/aishik/systcovariant_data/HiggsML_TES_1.14.h5\n"
     ]
    }
   ],
   "source": [
    "if not loadAndPlot:\n",
    "    sig_hists, back_hists = buildTemplates(model=nominal_model, clfName=\"Nominal\")"
   ]
  },
  {
   "cell_type": "code",
   "execution_count": 23,
   "metadata": {},
   "outputs": [
    {
     "name": "stdout",
     "output_type": "stream",
     "text": [
      "Loading file:  /data1/users/aishik/systcovariant_data/HiggsML_TES_1.0.h5\n"
     ]
    }
   ],
   "source": [
    "X_syst_test_nominal, Y_syst_test_nominal, Z_syst_test_nominal, weights_test_nominal = loadSystData(z_val=z_nominal)\n",
    "nominalEvents = np.array([True] * len(Z_syst_test_nominal)) # for legacy reasons\n",
    "\n",
    "#del Y_syst_test_nominal, Z_syst_test_nominal\n",
    "del Z_syst_test_nominal"
   ]
  },
  {
   "cell_type": "code",
   "execution_count": 24,
   "metadata": {},
   "outputs": [],
   "source": [
    "def createHistObs(X, Y_true, weights, mu, model,):\n",
    "    weights[Y_true==1] *= mu \n",
    "    Y_pred = model.predict(X, batch_size=batch_size).reshape(-1)\n",
    "    hist_obs, bin_array = np.histogram(Y_pred, weights=weights, range=(0,1), bins=nBins)\n",
    "    return hist_obs, bin_array"
   ]
  },
  {
   "cell_type": "code",
   "execution_count": 25,
   "metadata": {},
   "outputs": [],
   "source": [
    "if not loadAndPlot:\n",
    "      hist_obs, bin_array = createHistObs(X=X_syst_test_nominal[nominalEvents],\n",
    "                                          Y_true=Y_syst_test_nominal[nominalEvents],\n",
    "                                          weights=weights_test_nominal[nominalEvents], mu=mu_test,\n",
    "                                          model=nominal_model, \n",
    "                                          )"
   ]
  },
  {
   "cell_type": "raw",
   "metadata": {},
   "source": [
    "if not loadAndPlot:\n",
    "    np.save(\"HiggsModels/ClfSignalTemplates.npy\", sig_hists)\n",
    "    np.save(\"HiggsModels/ClfBackgroundTemplates.npy\", back_hists)\n",
    "    np.save(\"HiggsModels/hist_obs.npy\", hist_obs)"
   ]
  },
  {
   "cell_type": "code",
   "execution_count": null,
   "metadata": {},
   "outputs": [],
   "source": [
    "sig_hists = np.load(\"HiggsModels/ClfSignalTemplates.npy\")\n",
    "back_hists = np.load(\"HiggsModels/ClfBackgroundTemplates.npy\")\n",
    "hist_obs = np.load(\"HiggsModels/hist_obs.npy\")"
   ]
  },
  {
   "cell_type": "code",
   "execution_count": 26,
   "metadata": {},
   "outputs": [],
   "source": [
    "def computeNLL2D(obs1D, sH2d, bH2d, mu_values=mu_values):\n",
    "    min_mu, min_z, minnll = 999,999,999\n",
    "    assert len(obs1D) == sH2d.shape[1] == bH2d.shape[1]\n",
    "    nll2D = np.zeros(mu_values.shape[0] * sH2d.shape[0]).reshape(mu_values.shape[0],sH2d.shape[0])    \n",
    "    for i, z_val in enumerate(z_syst):\n",
    "        for k,mu in enumerate(mu_values):\n",
    "            nll2D[k][i] += nll_syst(dTheta=z_val-z_nominal, sigma=z_std)\n",
    "            for n,s,b in zip(obs1D, sH2d[i], bH2d[i]): # over the bins of score histo\n",
    "                bin_nll = nll_stat(N=n,S=s,B=b,mu=mu)\n",
    "                if (not np.isnan(bin_nll)):\n",
    "                    nll2D[k][i] += bin_nll\n",
    "            if nll2D[k][i] < minnll:\n",
    "                minnll = nll2D[k][i]\n",
    "                min_mu = mu\n",
    "                min_z = z_val\n",
    "    print (\"Min at mu,z: \",min_mu, min_z)\n",
    "    return nll2D"
   ]
  },
  {
   "cell_type": "code",
   "execution_count": 27,
   "metadata": {},
   "outputs": [
    {
     "name": "stdout",
     "output_type": "stream",
     "text": [
      "Min at mu,z:  1.0 1.0\n"
     ]
    }
   ],
   "source": [
    "nll2D_clf_nom = computeNLL2D(obs1D=hist_obs, sH2d=sig_hists, bH2d=back_hists)"
   ]
  },
  {
   "cell_type": "code",
   "execution_count": 28,
   "metadata": {},
   "outputs": [],
   "source": [
    "def plot2dNLL(nll2D, dataName, clfName):\n",
    "    xx, yy = np.meshgrid(mu_values,z_syst)\n",
    "    ind = np.unravel_index(np.argmin(nll2D, axis=None), nll2D.shape)\n",
    "    plt.pcolormesh(xx,yy,(nll2D-nll2D.min() + 1).T)\n",
    "    cbar = plt.colorbar()\n",
    "    cbar.ax.tick_params(labelsize=12)\n",
    "    cbar.ax.set_ylabel(r\"NLL - min(NLL) + 1\", labelpad=5, size=20) \n",
    "    cbar.formatter.set_powerlimits((0, 0))\n",
    "    plt.scatter(mu_values[ind[0]],z_syst[ind[1]] , color=\"crimson\", s=200)\n",
    "    plt.xlabel(r\"$\\mu$\", size=25)\n",
    "    plt.xticks(fontsize=15)\n",
    "    plt.yticks(fontsize=15)\n",
    "    plt.ylabel(r\"$z$\", size=25)\n",
    "    plt.tight_layout()"
   ]
  },
  {
   "cell_type": "code",
   "execution_count": 29,
   "metadata": {},
   "outputs": [
    {
     "data": {
      "image/png": "[encoded data removed]",
      "text/plain": [
       "<Figure size 432x288 with 2 Axes>"
      ]
     },
     "metadata": {
      "needs_background": "light"
     },
     "output_type": "display_data"
    }
   ],
   "source": [
    "plot2dNLL(nll2D=nll2D_clf_nom, dataName=\"Nominal\", clfName=\"Clf\")\n",
    "#plt.savefig(plotDir + \"TwoD_NLL_{}_{}.pdf\".format(\"Clf\", \"Nominal\",), bbox_inches='tight',pad_inches = 0)\n",
    "plt.show()"
   ]
  },
  {
   "cell_type": "code",
   "execution_count": 32,
   "metadata": {},
   "outputs": [],
   "source": [
    "nll1D_clf_nom = nll2D_clf_nom.min(axis=1)"
   ]
  },
  {
   "cell_type": "code",
   "execution_count": 31,
   "metadata": {},
   "outputs": [
    {
     "name": "stdout",
     "output_type": "stream",
     "text": [
      "Loading file:  /data1/users/aishik/systcovariant_data/HiggsML_TES_1.1.h5\n",
      "Loading file:  /data1/users/aishik/systcovariant_data/HiggsML_TES_0.8.h5\n"
     ]
    }
   ],
   "source": [
    "X_syst_test_systUp, Y_syst_test_systUp, Z_syst_test_systUp, weights_test_systUp = loadSystData(z_val=systUp)\n",
    "systUpEvents = np.array([True] * len(Z_syst_test_systUp)) # for legacy reasons\n",
    "\n",
    "del Z_syst_test_systUp\n",
    "\n",
    "X_syst_test_systDown, Y_syst_test_systDown, Z_syst_test_systDown, weights_test_systDown = loadSystData(z_val=systDown)\n",
    "systDownEvents = np.array([True] * len(Z_syst_test_systDown)) # for legacy reasons\n",
    "\n",
    "del Z_syst_test_systDown"
   ]
  },
  {
   "cell_type": "code",
   "execution_count": 33,
   "metadata": {},
   "outputs": [],
   "source": [
    "if not loadAndPlot:\n",
    "    hist_obs_systUp, bin_array = createHistObs(X=X_syst_test_systUp[systUpEvents],\n",
    "                                               Y_true=Y_syst_test_systUp[systUpEvents],\n",
    "                                               weights=weights_test_systUp[systUpEvents], mu=mu_test,\n",
    "                                               model=nominal_model)\n",
    "    hist_obs_systDown, bin_array = createHistObs(X=X_syst_test_systDown[systDownEvents],\n",
    "                                                 Y_true=Y_syst_test_systDown[systDownEvents],\n",
    "                                                 weights=weights_test_systDown[systDownEvents], mu=mu_test,\n",
    "              model=nominal_model)"
   ]
  },
  {
   "cell_type": "raw",
   "metadata": {},
   "source": [
    "if not loadAndPlot:\n",
    "    np.save(\"HiggsModels/hist_obs_systUp.npy\", hist_obs_systUp)\n",
    "    np.save(\"HiggsModels/hist_obs_systDown.npy\", hist_obs_systDown)"
   ]
  },
  {
   "cell_type": "code",
   "execution_count": 34,
   "metadata": {},
   "outputs": [
    {
     "name": "stdout",
     "output_type": "stream",
     "text": [
      "exists\n"
     ]
    }
   ],
   "source": [
    "if 'bin_array' in globals():\n",
    "    print(\"exists\")\n",
    "else:\n",
    "    assert nBins==30\n",
    "    bin_array = np.array([0.        , 0.03333334, 0.06666667, 0.1       , 0.13333334,\n",
    "       0.16666667, 0.2       , 0.23333333, 0.26666668, 0.3       ,\n",
    "       0.33333334, 0.36666667, 0.4       , 0.43333334, 0.46666667,\n",
    "       0.5       , 0.53333336, 0.56666666, 0.6       , 0.6333333 ,\n",
    "       0.6666667 , 0.7       , 0.73333335, 0.76666665, 0.8       ,\n",
    "       0.8333333 , 0.8666667 , 0.9       , 0.93333334, 0.96666664,\n",
    "       1.        ])"
   ]
  },
  {
   "cell_type": "code",
   "execution_count": null,
   "metadata": {},
   "outputs": [],
   "source": [
    "hist_obs_systUp = np.load(\"HiggsModels/hist_obs_systUp.npy\")\n",
    "hist_obs_systDown = np.load(\"HiggsModels/hist_obs_systDown.npy\")"
   ]
  },
  {
   "cell_type": "code",
   "execution_count": 35,
   "metadata": {},
   "outputs": [
    {
     "name": "stdout",
     "output_type": "stream",
     "text": [
      "Min at mu,z:  1.0 1.1\n",
      "Min at mu,z:  1.0 0.8\n"
     ]
    }
   ],
   "source": [
    "nll2D_clf_systUp = computeNLL2D(obs1D=hist_obs_systUp, sH2d=sig_hists, bH2d=back_hists)\n",
    "nll2D_clf_systDown = computeNLL2D(obs1D=hist_obs_systDown, sH2d=sig_hists, bH2d=back_hists)"
   ]
  },
  {
   "cell_type": "code",
   "execution_count": 36,
   "metadata": {},
   "outputs": [
    {
     "data": {
      "image/png": "[encoded data removed]",
      "text/plain": [
       "<Figure size 432x288 with 2 Axes>"
      ]
     },
     "metadata": {
      "needs_background": "light"
     },
     "output_type": "display_data"
    }
   ],
   "source": [
    "plot2dNLL(nll2D=nll2D_clf_systUp, dataName=\"SystUp\", clfName=\"Clf\")\n",
    "#plt.savefig(plotDir + \"TwoD_NLL_{}_{}.pdf\".format(\"Clf\", \"SystUp\",), bbox_inches='tight',pad_inches = 0)\n",
    "plt.show()"
   ]
  },
  {
   "cell_type": "code",
   "execution_count": 37,
   "metadata": {},
   "outputs": [],
   "source": [
    "nll1D_clf_systUp = nll2D_clf_systUp.min(axis=1)\n",
    "nll1D_clf_systDown = nll2D_clf_systDown.min(axis=1)"
   ]
  },
  {
   "cell_type": "markdown",
   "metadata": {},
   "source": [
    "## Data Augmentation trained clf"
   ]
  },
  {
   "cell_type": "code",
   "execution_count": 39,
   "metadata": {},
   "outputs": [
    {
     "name": "stdout",
     "output_type": "stream",
     "text": [
      "Loading file:  /data1/users/aishik/systcovariant_data/HiggsML_TES_0.8.h5\n",
      "Loading file:  /data1/users/aishik/systcovariant_data/HiggsML_TES_0.84.h5\n",
      "Loading file:  /data1/users/aishik/systcovariant_data/HiggsML_TES_0.88.h5\n",
      "Loading file:  /data1/users/aishik/systcovariant_data/HiggsML_TES_0.89.h5\n",
      "Loading file:  /data1/users/aishik/systcovariant_data/HiggsML_TES_0.9.h5\n",
      "Loading file:  /data1/users/aishik/systcovariant_data/HiggsML_TES_0.91.h5\n",
      "Loading file:  /data1/users/aishik/systcovariant_data/HiggsML_TES_0.92.h5\n",
      "Loading file:  /data1/users/aishik/systcovariant_data/HiggsML_TES_0.93.h5\n",
      "Loading file:  /data1/users/aishik/systcovariant_data/HiggsML_TES_0.94.h5\n",
      "Loading file:  /data1/users/aishik/systcovariant_data/HiggsML_TES_0.95.h5\n",
      "Loading file:  /data1/users/aishik/systcovariant_data/HiggsML_TES_0.96.h5\n",
      "Loading file:  /data1/users/aishik/systcovariant_data/HiggsML_TES_0.97.h5\n",
      "Loading file:  /data1/users/aishik/systcovariant_data/HiggsML_TES_0.98.h5\n",
      "Loading file:  /data1/users/aishik/systcovariant_data/HiggsML_TES_0.99.h5\n",
      "Loading file:  /data1/users/aishik/systcovariant_data/HiggsML_TES_1.0.h5\n",
      "Loading file:  /data1/users/aishik/systcovariant_data/HiggsML_TES_1.01.h5\n",
      "Loading file:  /data1/users/aishik/systcovariant_data/HiggsML_TES_1.02.h5\n",
      "Loading file:  /data1/users/aishik/systcovariant_data/HiggsML_TES_1.03.h5\n",
      "Loading file:  /data1/users/aishik/systcovariant_data/HiggsML_TES_1.04.h5\n",
      "Loading file:  /data1/users/aishik/systcovariant_data/HiggsML_TES_1.05.h5\n",
      "Loading file:  /data1/users/aishik/systcovariant_data/HiggsML_TES_1.06.h5\n",
      "Loading file:  /data1/users/aishik/systcovariant_data/HiggsML_TES_1.07.h5\n",
      "Loading file:  /data1/users/aishik/systcovariant_data/HiggsML_TES_1.08.h5\n",
      "Loading file:  /data1/users/aishik/systcovariant_data/HiggsML_TES_1.09.h5\n",
      "Loading file:  /data1/users/aishik/systcovariant_data/HiggsML_TES_1.1.h5\n",
      "Loading file:  /data1/users/aishik/systcovariant_data/HiggsML_TES_1.11.h5\n",
      "Loading file:  /data1/users/aishik/systcovariant_data/HiggsML_TES_1.12.h5\n",
      "Loading file:  /data1/users/aishik/systcovariant_data/HiggsML_TES_1.13.h5\n",
      "Loading file:  /data1/users/aishik/systcovariant_data/HiggsML_TES_1.14.h5\n"
     ]
    }
   ],
   "source": [
    "if not loadAndPlot:\n",
    "    sig_hists_aug, back_hists_aug = buildTemplates(model=augmented_model, clfName=\"Augmented\")"
   ]
  },
  {
   "cell_type": "code",
   "execution_count": 40,
   "metadata": {},
   "outputs": [],
   "source": [
    "# hist_obs_aug, bin_array = np.histogram(\n",
    "#     augmented_model.predict(X_syst_test_nominal[nominalEvents], batch_size=batch_size).reshape(-1), \n",
    "#     weights=weights_test_nominal[nominalEvents], range=(0,1), bins=nBins)\n",
    "\n",
    "if not loadAndPlot:\n",
    "    hist_obs_aug, bin_array = createHistObs(X=X_syst_test_nominal[nominalEvents],\n",
    "                                            Y_true=Y_syst_test_nominal[nominalEvents],\n",
    "                                            weights=weights_test_nominal[nominalEvents], \n",
    "                                            mu=mu_test,\n",
    "              model=augmented_model)"
   ]
  },
  {
   "cell_type": "raw",
   "metadata": {},
   "source": [
    "if not loadAndPlot:\n",
    "    np.save(\"HiggsModels/AugSignalTemplates.npy\", sig_hists_aug)\n",
    "    np.save(\"HiggsModels/AugBackgroundTemplates.npy\", back_hists_aug)\n",
    "    np.save(\"HiggsModels/hist_obs_Aug.npy\", hist_obs_aug)"
   ]
  },
  {
   "cell_type": "code",
   "execution_count": null,
   "metadata": {},
   "outputs": [],
   "source": [
    "sig_hists_aug = np.load(\"HiggsModels/AugSignalTemplates.npy\", )\n",
    "back_hists_aug = np.load(\"HiggsModels/AugBackgroundTemplates.npy\", )\n",
    "hist_obs_aug = np.load(\"HiggsModels/hist_obs_Aug.npy\", )"
   ]
  },
  {
   "cell_type": "code",
   "execution_count": 41,
   "metadata": {},
   "outputs": [
    {
     "name": "stdout",
     "output_type": "stream",
     "text": [
      "Min at mu,z:  1.0 1.0\n"
     ]
    }
   ],
   "source": [
    "nll2D_aug_nom = computeNLL2D(obs1D=hist_obs_aug, sH2d=sig_hists_aug, bH2d=back_hists_aug)"
   ]
  },
  {
   "cell_type": "code",
   "execution_count": 42,
   "metadata": {},
   "outputs": [
    {
     "data": {
      "image/png": "[encoded data removed]",
      "text/plain": [
       "<Figure size 432x288 with 2 Axes>"
      ]
     },
     "metadata": {
      "needs_background": "light"
     },
     "output_type": "display_data"
    }
   ],
   "source": [
    "plot2dNLL(nll2D=nll2D_aug_nom, dataName=\"Nominal\", clfName=\"Aug\")\n",
    "#plt.savefig(plotDir + \"TwoD_NLL_{}_{}.pdf\".format(\"Aug\", \"Nominal\",))\n",
    "plt.show()"
   ]
  },
  {
   "cell_type": "code",
   "execution_count": 43,
   "metadata": {},
   "outputs": [],
   "source": [
    "nll1D_aug_nom = nll2D_aug_nom.min(axis=1)"
   ]
  },
  {
   "cell_type": "code",
   "execution_count": 44,
   "metadata": {},
   "outputs": [],
   "source": [
    "if not loadAndPlot:\n",
    "    hist_obs_aug_systUp, bin_array = createHistObs(X=X_syst_test_systUp[systUpEvents],\n",
    "                                                   Y_true=Y_syst_test_systUp[systUpEvents],\n",
    "                                                   weights=weights_test_systUp[systUpEvents], mu=mu_test,\n",
    "              model=augmented_model)\n",
    "    hist_obs_aug_systDown, bin_array = createHistObs(X=X_syst_test_systDown[systDownEvents],\n",
    "                                                     Y_true=Y_syst_test_systDown[systDownEvents],\n",
    "                                                     weights=weights_test_systDown[systDownEvents], \n",
    "              mu=mu_test, model=augmented_model)"
   ]
  },
  {
   "cell_type": "raw",
   "metadata": {},
   "source": [
    "if not loadAndPlot:\n",
    "    np.save(\"HiggsModels/hist_obs_aug_systUp.npy\", hist_obs_aug_systUp)\n",
    "    np.save(\"HiggsModels/hist_obs_aug_systDown.npy\", hist_obs_aug_systDown)"
   ]
  },
  {
   "cell_type": "code",
   "execution_count": null,
   "metadata": {},
   "outputs": [],
   "source": [
    "hist_obs_aug_systUp = np.load(\"HiggsModels/hist_obs_aug_systUp.npy\", )\n",
    "hist_obs_aug_systDown = np.load(\"HiggsModels/hist_obs_aug_systDown.npy\", )"
   ]
  },
  {
   "cell_type": "code",
   "execution_count": 45,
   "metadata": {},
   "outputs": [
    {
     "name": "stdout",
     "output_type": "stream",
     "text": [
      "Min at mu,z:  1.0 1.1\n",
      "Min at mu,z:  1.0 0.8\n"
     ]
    }
   ],
   "source": [
    "nll2D_aug_systUp = computeNLL2D(obs1D=hist_obs_aug_systUp, sH2d=sig_hists_aug, bH2d=back_hists_aug)\n",
    "nll2D_aug_systDown = computeNLL2D(obs1D=hist_obs_aug_systDown, sH2d=sig_hists_aug, bH2d=back_hists_aug)\n",
    "\n",
    "nll1D_aug_systUp = nll2D_aug_systUp.min(axis=1)\n",
    "nll1D_aug_systDown = nll2D_aug_systDown.min(axis=1)"
   ]
  },
  {
   "cell_type": "code",
   "execution_count": 46,
   "metadata": {},
   "outputs": [
    {
     "data": {
      "image/png": "[encoded data removed]",
      "text/plain": [
       "<Figure size 432x288 with 2 Axes>"
      ]
     },
     "metadata": {
      "needs_background": "light"
     },
     "output_type": "display_data"
    }
   ],
   "source": [
    "plot2dNLL(nll2D=nll2D_aug_systUp, dataName=\"SystUp\", clfName=\"Aug\")\n",
    "#plt.savefig(plotDir + \"TwoD_NLL_{}_{}.pdf\".format(\"Aug\", \"SystUp\",))\n",
    "plt.show()"
   ]
  },
  {
   "cell_type": "markdown",
   "metadata": {},
   "source": [
    "## Clf trained on SystDown"
   ]
  },
  {
   "cell_type": "code",
   "execution_count": 47,
   "metadata": {},
   "outputs": [
    {
     "name": "stdout",
     "output_type": "stream",
     "text": [
      "Loading file:  /data1/users/aishik/systcovariant_data/HiggsML_TES_0.8.h5\n",
      "Loading file:  /data1/users/aishik/systcovariant_data/HiggsML_TES_0.84.h5\n",
      "Loading file:  /data1/users/aishik/systcovariant_data/HiggsML_TES_0.88.h5\n",
      "Loading file:  /data1/users/aishik/systcovariant_data/HiggsML_TES_0.89.h5\n",
      "Loading file:  /data1/users/aishik/systcovariant_data/HiggsML_TES_0.9.h5\n",
      "Loading file:  /data1/users/aishik/systcovariant_data/HiggsML_TES_0.91.h5\n",
      "Loading file:  /data1/users/aishik/systcovariant_data/HiggsML_TES_0.92.h5\n",
      "Loading file:  /data1/users/aishik/systcovariant_data/HiggsML_TES_0.93.h5\n",
      "Loading file:  /data1/users/aishik/systcovariant_data/HiggsML_TES_0.94.h5\n",
      "Loading file:  /data1/users/aishik/systcovariant_data/HiggsML_TES_0.95.h5\n",
      "Loading file:  /data1/users/aishik/systcovariant_data/HiggsML_TES_0.96.h5\n",
      "Loading file:  /data1/users/aishik/systcovariant_data/HiggsML_TES_0.97.h5\n",
      "Loading file:  /data1/users/aishik/systcovariant_data/HiggsML_TES_0.98.h5\n",
      "Loading file:  /data1/users/aishik/systcovariant_data/HiggsML_TES_0.99.h5\n",
      "Loading file:  /data1/users/aishik/systcovariant_data/HiggsML_TES_1.0.h5\n",
      "Loading file:  /data1/users/aishik/systcovariant_data/HiggsML_TES_1.01.h5\n",
      "Loading file:  /data1/users/aishik/systcovariant_data/HiggsML_TES_1.02.h5\n",
      "Loading file:  /data1/users/aishik/systcovariant_data/HiggsML_TES_1.03.h5\n",
      "Loading file:  /data1/users/aishik/systcovariant_data/HiggsML_TES_1.04.h5\n",
      "Loading file:  /data1/users/aishik/systcovariant_data/HiggsML_TES_1.05.h5\n",
      "Loading file:  /data1/users/aishik/systcovariant_data/HiggsML_TES_1.06.h5\n",
      "Loading file:  /data1/users/aishik/systcovariant_data/HiggsML_TES_1.07.h5\n",
      "Loading file:  /data1/users/aishik/systcovariant_data/HiggsML_TES_1.08.h5\n",
      "Loading file:  /data1/users/aishik/systcovariant_data/HiggsML_TES_1.09.h5\n",
      "Loading file:  /data1/users/aishik/systcovariant_data/HiggsML_TES_1.1.h5\n",
      "Loading file:  /data1/users/aishik/systcovariant_data/HiggsML_TES_1.11.h5\n",
      "Loading file:  /data1/users/aishik/systcovariant_data/HiggsML_TES_1.12.h5\n",
      "Loading file:  /data1/users/aishik/systcovariant_data/HiggsML_TES_1.13.h5\n",
      "Loading file:  /data1/users/aishik/systcovariant_data/HiggsML_TES_1.14.h5\n"
     ]
    }
   ],
   "source": [
    "if not loadAndPlot:\n",
    "    sig_hists_down, back_hists_down = buildTemplates(model=down_model, clfName=\"Down\")"
   ]
  },
  {
   "cell_type": "code",
   "execution_count": 48,
   "metadata": {},
   "outputs": [],
   "source": [
    "if not loadAndPlot:\n",
    "    hist_obs_down, bin_array = createHistObs(X=X_syst_test_nominal[nominalEvents],\n",
    "                                             Y_true=Y_syst_test_nominal[nominalEvents],\n",
    "                                             weights=weights_test_nominal[nominalEvents], mu=mu_test,\n",
    "              model=down_model)"
   ]
  },
  {
   "cell_type": "raw",
   "metadata": {},
   "source": [
    "if not loadAndPlot:\n",
    "    np.save(\"HiggsModels/DownSignalTemplates.npy\", sig_hists_down)\n",
    "    np.save(\"HiggsModels/DownBackgroundTemplates.npy\", back_hists_down)\n",
    "    np.save(\"HiggsModels/hist_obs_Down.npy\", hist_obs_down)"
   ]
  },
  {
   "cell_type": "code",
   "execution_count": null,
   "metadata": {},
   "outputs": [],
   "source": [
    "sig_hists_down = np.load(\"HiggsModels/DownSignalTemplates.npy\", )\n",
    "back_hists_down = np.load(\"HiggsModels/DownBackgroundTemplates.npy\", )\n",
    "hist_obs_down = np.load(\"HiggsModels/hist_obs_Down.npy\", )"
   ]
  },
  {
   "cell_type": "code",
   "execution_count": 49,
   "metadata": {},
   "outputs": [
    {
     "name": "stdout",
     "output_type": "stream",
     "text": [
      "Min at mu,z:  1.0 1.0\n"
     ]
    }
   ],
   "source": [
    "nll2D_down_nom = computeNLL2D(obs1D=hist_obs_down, sH2d=sig_hists_down, bH2d=back_hists_down)"
   ]
  },
  {
   "cell_type": "code",
   "execution_count": 50,
   "metadata": {},
   "outputs": [
    {
     "data": {
      "image/png": "[encoded data removed]",
      "text/plain": [
       "<Figure size 432x288 with 2 Axes>"
      ]
     },
     "metadata": {
      "needs_background": "light"
     },
     "output_type": "display_data"
    }
   ],
   "source": [
    "plot2dNLL(nll2D=nll2D_down_nom, dataName=\"Nominal\", clfName=\"Down\")\n",
    "plt.show()"
   ]
  },
  {
   "cell_type": "code",
   "execution_count": 51,
   "metadata": {},
   "outputs": [],
   "source": [
    "nll1D_down_nom = nll2D_down_nom.min(axis=1)"
   ]
  },
  {
   "cell_type": "code",
   "execution_count": 52,
   "metadata": {},
   "outputs": [],
   "source": [
    "if not loadAndPlot:\n",
    "    hist_obs_down_systUp, bin_array = createHistObs(X=X_syst_test_systUp[systUpEvents],\n",
    "                                                    Y_true=Y_syst_test_systUp[systUpEvents],\n",
    "                                                    weights=weights_test_systUp[systUpEvents], mu=mu_test,\n",
    "              model=down_model)\n",
    "    hist_obs_down_systDown, bin_array = createHistObs(X=X_syst_test_systDown[systDownEvents],\n",
    "                                                      Y_true=Y_syst_test_systDown[systDownEvents],\n",
    "                                                      weights=weights_test_systDown[systDownEvents], mu=mu_test,\n",
    "              model=down_model)"
   ]
  },
  {
   "cell_type": "raw",
   "metadata": {},
   "source": [
    "if not loadAndPlot:\n",
    "    np.save(\"HiggsModels/hist_obs_down_systUp.npy\", hist_obs_down_systUp)\n",
    "    np.save(\"HiggsModels/hist_obs_down_systDown.npy\", hist_obs_down_systDown)"
   ]
  },
  {
   "cell_type": "code",
   "execution_count": null,
   "metadata": {},
   "outputs": [],
   "source": [
    "hist_obs_down_systUp = np.load(\"HiggsModels/hist_obs_down_systUp.npy\", )\n",
    "hist_obs_down_systDown = np.load(\"HiggsModels/hist_obs_down_systDown.npy\", )"
   ]
  },
  {
   "cell_type": "code",
   "execution_count": 53,
   "metadata": {},
   "outputs": [
    {
     "name": "stdout",
     "output_type": "stream",
     "text": [
      "Min at mu,z:  1.0 1.1\n",
      "Min at mu,z:  1.0 0.8\n"
     ]
    }
   ],
   "source": [
    "nll2D_down_systUp = computeNLL2D(obs1D=hist_obs_down_systUp, sH2d=sig_hists_down, bH2d=back_hists_down)\n",
    "nll2D_down_systDown = computeNLL2D(obs1D=hist_obs_down_systDown, sH2d=sig_hists_down, bH2d=back_hists_down)"
   ]
  },
  {
   "cell_type": "code",
   "execution_count": 54,
   "metadata": {},
   "outputs": [
    {
     "data": {
      "image/png": "[encoded data removed]",
      "text/plain": [
       "<Figure size 432x288 with 2 Axes>"
      ]
     },
     "metadata": {
      "needs_background": "light"
     },
     "output_type": "display_data"
    }
   ],
   "source": [
    "plot2dNLL(nll2D=nll2D_down_systUp, dataName=\"SystUp\", clfName=\"Down\")\n",
    "plt.show()"
   ]
  },
  {
   "cell_type": "code",
   "execution_count": 55,
   "metadata": {},
   "outputs": [],
   "source": [
    "nll1D_down_systUp = nll2D_down_systUp.min(axis=1)\n",
    "nll1D_down_systDown = nll2D_down_systDown.min(axis=1)"
   ]
  },
  {
   "cell_type": "markdown",
   "metadata": {},
   "source": [
    "## Clf trained on SystUp"
   ]
  },
  {
   "cell_type": "code",
   "execution_count": 56,
   "metadata": {},
   "outputs": [
    {
     "name": "stdout",
     "output_type": "stream",
     "text": [
      "Loading file:  /data1/users/aishik/systcovariant_data/HiggsML_TES_0.8.h5\n",
      "Loading file:  /data1/users/aishik/systcovariant_data/HiggsML_TES_0.84.h5\n",
      "Loading file:  /data1/users/aishik/systcovariant_data/HiggsML_TES_0.88.h5\n",
      "Loading file:  /data1/users/aishik/systcovariant_data/HiggsML_TES_0.89.h5\n",
      "Loading file:  /data1/users/aishik/systcovariant_data/HiggsML_TES_0.9.h5\n",
      "Loading file:  /data1/users/aishik/systcovariant_data/HiggsML_TES_0.91.h5\n",
      "Loading file:  /data1/users/aishik/systcovariant_data/HiggsML_TES_0.92.h5\n",
      "Loading file:  /data1/users/aishik/systcovariant_data/HiggsML_TES_0.93.h5\n",
      "Loading file:  /data1/users/aishik/systcovariant_data/HiggsML_TES_0.94.h5\n",
      "Loading file:  /data1/users/aishik/systcovariant_data/HiggsML_TES_0.95.h5\n",
      "Loading file:  /data1/users/aishik/systcovariant_data/HiggsML_TES_0.96.h5\n",
      "Loading file:  /data1/users/aishik/systcovariant_data/HiggsML_TES_0.97.h5\n",
      "Loading file:  /data1/users/aishik/systcovariant_data/HiggsML_TES_0.98.h5\n",
      "Loading file:  /data1/users/aishik/systcovariant_data/HiggsML_TES_0.99.h5\n",
      "Loading file:  /data1/users/aishik/systcovariant_data/HiggsML_TES_1.0.h5\n",
      "Loading file:  /data1/users/aishik/systcovariant_data/HiggsML_TES_1.01.h5\n",
      "Loading file:  /data1/users/aishik/systcovariant_data/HiggsML_TES_1.02.h5\n",
      "Loading file:  /data1/users/aishik/systcovariant_data/HiggsML_TES_1.03.h5\n",
      "Loading file:  /data1/users/aishik/systcovariant_data/HiggsML_TES_1.04.h5\n",
      "Loading file:  /data1/users/aishik/systcovariant_data/HiggsML_TES_1.05.h5\n",
      "Loading file:  /data1/users/aishik/systcovariant_data/HiggsML_TES_1.06.h5\n",
      "Loading file:  /data1/users/aishik/systcovariant_data/HiggsML_TES_1.07.h5\n",
      "Loading file:  /data1/users/aishik/systcovariant_data/HiggsML_TES_1.08.h5\n",
      "Loading file:  /data1/users/aishik/systcovariant_data/HiggsML_TES_1.09.h5\n",
      "Loading file:  /data1/users/aishik/systcovariant_data/HiggsML_TES_1.1.h5\n",
      "Loading file:  /data1/users/aishik/systcovariant_data/HiggsML_TES_1.11.h5\n",
      "Loading file:  /data1/users/aishik/systcovariant_data/HiggsML_TES_1.12.h5\n",
      "Loading file:  /data1/users/aishik/systcovariant_data/HiggsML_TES_1.13.h5\n",
      "Loading file:  /data1/users/aishik/systcovariant_data/HiggsML_TES_1.14.h5\n"
     ]
    }
   ],
   "source": [
    "if not loadAndPlot:\n",
    "    sig_hists_up, back_hists_up = buildTemplates(model=up_model, clfName=\"Up\")"
   ]
  },
  {
   "cell_type": "code",
   "execution_count": 57,
   "metadata": {},
   "outputs": [],
   "source": [
    "if not loadAndPlot:\n",
    "    hist_obs_up, bin_array = createHistObs(X=X_syst_test_nominal[nominalEvents],\n",
    "                                           Y_true=Y_syst_test_nominal[nominalEvents],\n",
    "                                           weights=weights_test_nominal[nominalEvents], mu=mu_test,\n",
    "              model=up_model)"
   ]
  },
  {
   "cell_type": "raw",
   "metadata": {},
   "source": [
    "if not loadAndPlot:\n",
    "    np.save(\"HiggsModels/UpSignalTemplates.npy\", sig_hists_up)\n",
    "    np.save(\"HiggsModels/UpBackgroundTemplates.npy\", back_hists_up)\n",
    "    np.save(\"HiggsModels/hist_obs_Up.npy\", hist_obs_up)"
   ]
  },
  {
   "cell_type": "code",
   "execution_count": null,
   "metadata": {},
   "outputs": [],
   "source": [
    "sig_hists_up = np.load(\"HiggsModels/UpSignalTemplates.npy\", )\n",
    "back_hists_up = np.load(\"HiggsModels/UpBackgroundTemplates.npy\", )\n",
    "hist_obs_up = np.load(\"HiggsModels/hist_obs_Up.npy\", )"
   ]
  },
  {
   "cell_type": "code",
   "execution_count": 58,
   "metadata": {},
   "outputs": [
    {
     "name": "stdout",
     "output_type": "stream",
     "text": [
      "Min at mu,z:  1.0 1.0\n"
     ]
    }
   ],
   "source": [
    "nll2D_up_nom = computeNLL2D(obs1D=hist_obs_up, sH2d=sig_hists_up, bH2d=back_hists_up)"
   ]
  },
  {
   "cell_type": "code",
   "execution_count": 59,
   "metadata": {},
   "outputs": [
    {
     "data": {
      "image/png": "[encoded data removed]",
      "text/plain": [
       "<Figure size 432x288 with 2 Axes>"
      ]
     },
     "metadata": {
      "needs_background": "light"
     },
     "output_type": "display_data"
    }
   ],
   "source": [
    "plot2dNLL(nll2D=nll2D_up_nom, dataName=\"Nominal\", clfName=\"Up\")\n",
    "plt.show()"
   ]
  },
  {
   "cell_type": "code",
   "execution_count": 60,
   "metadata": {},
   "outputs": [],
   "source": [
    "nll1D_up_nom = nll2D_up_nom.min(axis=1)"
   ]
  },
  {
   "cell_type": "code",
   "execution_count": 61,
   "metadata": {},
   "outputs": [],
   "source": [
    "if not loadAndPlot:\n",
    "    hist_obs_up_systUp, bin_array = createHistObs(X=X_syst_test_systUp[systUpEvents],\n",
    "                                                  Y_true=Y_syst_test_systUp[systUpEvents],\n",
    "                                                  weights=weights_test_systUp[systUpEvents], mu=mu_test, \n",
    "              model=up_model)"
   ]
  },
  {
   "cell_type": "raw",
   "metadata": {},
   "source": [
    "if not loadAndPlot:\n",
    "    np.save(\"HiggsModels/hist_obs_up_systUp.npy\", hist_obs_up_systUp)"
   ]
  },
  {
   "cell_type": "code",
   "execution_count": null,
   "metadata": {},
   "outputs": [],
   "source": [
    "hist_obs_up_systUp = np.load(\"HiggsModels/hist_obs_up_systUp.npy\", )"
   ]
  },
  {
   "cell_type": "code",
   "execution_count": 62,
   "metadata": {},
   "outputs": [
    {
     "name": "stdout",
     "output_type": "stream",
     "text": [
      "Min at mu,z:  1.0 1.1\n"
     ]
    }
   ],
   "source": [
    "nll2D_up_systUp = computeNLL2D(obs1D=hist_obs_up_systUp, sH2d=sig_hists_up, bH2d=back_hists_up)"
   ]
  },
  {
   "cell_type": "code",
   "execution_count": 63,
   "metadata": {
    "scrolled": true
   },
   "outputs": [
    {
     "data": {
      "image/png": "[encoded data removed]",
      "text/plain": [
       "<Figure size 432x288 with 2 Axes>"
      ]
     },
     "metadata": {
      "needs_background": "light"
     },
     "output_type": "display_data"
    }
   ],
   "source": [
    "plot2dNLL(nll2D=nll2D_up_systUp, dataName=\"SystUp\", clfName=\"Up\")\n",
    "plt.show()"
   ]
  },
  {
   "cell_type": "code",
   "execution_count": 64,
   "metadata": {},
   "outputs": [],
   "source": [
    "nll1D_up_systUp = nll2D_up_systUp.min(axis=1)"
   ]
  },
  {
   "cell_type": "markdown",
   "metadata": {},
   "source": [
    "## Syst Aware classifier"
   ]
  },
  {
   "cell_type": "code",
   "execution_count": 65,
   "metadata": {},
   "outputs": [
    {
     "name": "stdout",
     "output_type": "stream",
     "text": [
      "Loading file:  /data1/users/aishik/systcovariant_data/HiggsML_TES_0.8.h5\n",
      "Not Currently Supported for analyticial aware classifier\n",
      "Loading file:  /data1/users/aishik/systcovariant_data/HiggsML_TES_0.84.h5\n",
      "Not Currently Supported for analyticial aware classifier\n",
      "Loading file:  /data1/users/aishik/systcovariant_data/HiggsML_TES_0.88.h5\n",
      "Not Currently Supported for analyticial aware classifier\n",
      "Loading file:  /data1/users/aishik/systcovariant_data/HiggsML_TES_0.89.h5\n",
      "Not Currently Supported for analyticial aware classifier\n",
      "Loading file:  /data1/users/aishik/systcovariant_data/HiggsML_TES_0.9.h5\n",
      "Not Currently Supported for analyticial aware classifier\n",
      "Loading file:  /data1/users/aishik/systcovariant_data/HiggsML_TES_0.91.h5\n",
      "Not Currently Supported for analyticial aware classifier\n",
      "Loading file:  /data1/users/aishik/systcovariant_data/HiggsML_TES_0.92.h5\n",
      "Not Currently Supported for analyticial aware classifier\n",
      "Loading file:  /data1/users/aishik/systcovariant_data/HiggsML_TES_0.93.h5\n",
      "Not Currently Supported for analyticial aware classifier\n",
      "Loading file:  /data1/users/aishik/systcovariant_data/HiggsML_TES_0.94.h5\n",
      "Not Currently Supported for analyticial aware classifier\n",
      "Loading file:  /data1/users/aishik/systcovariant_data/HiggsML_TES_0.95.h5\n",
      "Not Currently Supported for analyticial aware classifier\n",
      "Loading file:  /data1/users/aishik/systcovariant_data/HiggsML_TES_0.96.h5\n",
      "Not Currently Supported for analyticial aware classifier\n",
      "Loading file:  /data1/users/aishik/systcovariant_data/HiggsML_TES_0.97.h5\n",
      "Not Currently Supported for analyticial aware classifier\n",
      "Loading file:  /data1/users/aishik/systcovariant_data/HiggsML_TES_0.98.h5\n",
      "Not Currently Supported for analyticial aware classifier\n",
      "Loading file:  /data1/users/aishik/systcovariant_data/HiggsML_TES_0.99.h5\n",
      "Not Currently Supported for analyticial aware classifier\n",
      "Loading file:  /data1/users/aishik/systcovariant_data/HiggsML_TES_1.0.h5\n",
      "Not Currently Supported for analyticial aware classifier\n",
      "Loading file:  /data1/users/aishik/systcovariant_data/HiggsML_TES_1.01.h5\n",
      "Not Currently Supported for analyticial aware classifier\n",
      "Loading file:  /data1/users/aishik/systcovariant_data/HiggsML_TES_1.02.h5\n",
      "Not Currently Supported for analyticial aware classifier\n",
      "Loading file:  /data1/users/aishik/systcovariant_data/HiggsML_TES_1.03.h5\n",
      "Not Currently Supported for analyticial aware classifier\n",
      "Loading file:  /data1/users/aishik/systcovariant_data/HiggsML_TES_1.04.h5\n",
      "Not Currently Supported for analyticial aware classifier\n",
      "Loading file:  /data1/users/aishik/systcovariant_data/HiggsML_TES_1.05.h5\n",
      "Not Currently Supported for analyticial aware classifier\n",
      "Loading file:  /data1/users/aishik/systcovariant_data/HiggsML_TES_1.06.h5\n",
      "Not Currently Supported for analyticial aware classifier\n",
      "Loading file:  /data1/users/aishik/systcovariant_data/HiggsML_TES_1.07.h5\n",
      "Not Currently Supported for analyticial aware classifier\n",
      "Loading file:  /data1/users/aishik/systcovariant_data/HiggsML_TES_1.08.h5\n",
      "Not Currently Supported for analyticial aware classifier\n",
      "Loading file:  /data1/users/aishik/systcovariant_data/HiggsML_TES_1.09.h5\n",
      "Not Currently Supported for analyticial aware classifier\n",
      "Loading file:  /data1/users/aishik/systcovariant_data/HiggsML_TES_1.1.h5\n",
      "Not Currently Supported for analyticial aware classifier\n",
      "Loading file:  /data1/users/aishik/systcovariant_data/HiggsML_TES_1.11.h5\n",
      "Not Currently Supported for analyticial aware classifier\n",
      "Loading file:  /data1/users/aishik/systcovariant_data/HiggsML_TES_1.12.h5\n",
      "Not Currently Supported for analyticial aware classifier\n",
      "Loading file:  /data1/users/aishik/systcovariant_data/HiggsML_TES_1.13.h5\n",
      "Not Currently Supported for analyticial aware classifier\n",
      "Loading file:  /data1/users/aishik/systcovariant_data/HiggsML_TES_1.14.h5\n",
      "Not Currently Supported for analyticial aware classifier\n"
     ]
    }
   ],
   "source": [
    "if not loadAndPlot:\n",
    "    sig_hists_awe, back_hists_awe = buildTemplates(model=aware_model, clfName=\"Aware\")"
   ]
  },
  {
   "cell_type": "code",
   "execution_count": 66,
   "metadata": {},
   "outputs": [],
   "source": [
    "def createHistObsAwe(X,Y_true, mu, weights):\n",
    "    weights[Y_true==1] *= mu\n",
    "    hist_obs_awe2D = []\n",
    "    for hyp_z in z_syst:\n",
    "        #FixMe calling predict multiple times is very slow, try doing it just once or JIT?\n",
    "        Y = aware_model.predict([X, np.ones(X.shape[0]) * hyp_z], batch_size=batch_size).reshape(-1)\n",
    "        hist_obs_awe, bin_array = np.histogram(Y, weights=weights, range=(0,1), bins=nBins)\n",
    "        hist_obs_awe2D.append(hist_obs_awe)\n",
    "    hist_obs_awe2D = np.array(hist_obs_awe2D)\n",
    "    return hist_obs_awe2D"
   ]
  },
  {
   "cell_type": "code",
   "execution_count": 67,
   "metadata": {},
   "outputs": [],
   "source": [
    "if not loadAndPlot:\n",
    "    hist_obs_awe2D = createHistObsAwe(X=X_syst_test_nominal[nominalEvents],\n",
    "                                      Y_true=Y_syst_test_nominal[nominalEvents],\n",
    "                                      mu=mu_test,\n",
    "                                      weights=weights_test_nominal[nominalEvents])"
   ]
  },
  {
   "cell_type": "raw",
   "metadata": {},
   "source": [
    "if not loadAndPlot:\n",
    "    np.save(\"HiggsModels/AwareSignalTemplates.npy\", sig_hists_awe)\n",
    "    np.save(\"HiggsModels/AwareBackgroundTemplates.npy\", back_hists_awe)\n",
    "    np.save(\"HiggsModels/hist_obs_awe2D.npy\", hist_obs_awe2D)"
   ]
  },
  {
   "cell_type": "code",
   "execution_count": null,
   "metadata": {},
   "outputs": [],
   "source": [
    "sig_hists_awe = np.load(\"HiggsModels/AwareSignalTemplates.npy\")\n",
    "back_hists_awe = np.load(\"HiggsModels/AwareBackgroundTemplates.npy\")\n",
    "hist_obs_awe2D = np.load(\"HiggsModels/hist_obs_awe2D.npy\")"
   ]
  },
  {
   "cell_type": "code",
   "execution_count": 68,
   "metadata": {},
   "outputs": [],
   "source": [
    "def computeNLL2D_aware(obs2D, sH2d, bH2d, mu_values=mu_values):\n",
    "    min_mu, min_z, minnll = 999,999,999\n",
    "    assert obs2D.shape[1] == sH2d.shape[1] == bH2d.shape[1]\n",
    "    nll2D = np.zeros(mu_values.shape[0] * sH2d.shape[0]).reshape(mu_values.shape[0],sH2d.shape[0])\n",
    "    for i, z_val in enumerate(z_syst):\n",
    "        for k,mu in enumerate(mu_values):\n",
    "            nll2D[k][i] += nll_syst(dTheta=z_val-z_nominal, sigma=z_std)\n",
    "            for n,s,b in zip(obs2D[i], sH2d[i], bH2d[i]): # over the bins of score histo\n",
    "                bin_nll = nll_stat(N=n,S=s,B=b,mu=mu)\n",
    "                if (not np.isnan(bin_nll)):\n",
    "                    nll2D[k][i] += bin_nll\n",
    "            if nll2D[k][i] < minnll:\n",
    "                minnll = nll2D[k][i]\n",
    "                min_mu = mu\n",
    "                min_z = z_val\n",
    "    print (\"Min at mu,z: \",min_mu, min_z)\n",
    "    return nll2D"
   ]
  },
  {
   "cell_type": "code",
   "execution_count": 69,
   "metadata": {},
   "outputs": [
    {
     "name": "stdout",
     "output_type": "stream",
     "text": [
      "Min at mu,z:  1.0 1.0\n"
     ]
    }
   ],
   "source": [
    "nll2D_awe_nom = computeNLL2D_aware(obs2D=hist_obs_awe2D, sH2d=sig_hists_awe, bH2d=back_hists_awe)"
   ]
  },
  {
   "cell_type": "code",
   "execution_count": 70,
   "metadata": {},
   "outputs": [
    {
     "data": {
      "image/png": "[encoded data removed]",
      "text/plain": [
       "<Figure size 432x288 with 2 Axes>"
      ]
     },
     "metadata": {
      "needs_background": "light"
     },
     "output_type": "display_data"
    }
   ],
   "source": [
    "plot2dNLL(nll2D=nll2D_awe_nom, dataName=\"Nominal\", clfName=\"Awe\")\n",
    "#plt.savefig(plotDir + \"TwoD_NLL_{}_{}.pdf\".format(\"Awe\", \"Nominal\",))\n",
    "plt.show()"
   ]
  },
  {
   "cell_type": "code",
   "execution_count": 71,
   "metadata": {},
   "outputs": [],
   "source": [
    "nll1D_awe_nom = nll2D_awe_nom.min(axis=1)"
   ]
  },
  {
   "cell_type": "code",
   "execution_count": 72,
   "metadata": {},
   "outputs": [],
   "source": [
    "if not loadAndPlot:\n",
    "    hist_obs_awe2D_systUp = createHistObsAwe(X=X_syst_test_systUp[systUpEvents], \n",
    "                                             Y_true=Y_syst_test_systUp[systUpEvents], mu=mu_test,\n",
    "                            weights=weights_test_systUp[systUpEvents])\n",
    "    hist_obs_awe2D_systDown = createHistObsAwe(X=X_syst_test_systDown[systDownEvents], \n",
    "                                            Y_true=Y_syst_test_systDown[systDownEvents], mu=mu_test,   \n",
    "                            weights=weights_test_systDown[systDownEvents])"
   ]
  },
  {
   "cell_type": "raw",
   "metadata": {},
   "source": [
    "if not loadAndPlot:\n",
    "    np.save(\"HiggsModels/hist_obs_awe2D_systUp.npy\", hist_obs_awe2D_systUp)\n",
    "    np.save(\"HiggsModels/hist_obs_awe2D_systDown.npy\", hist_obs_awe2D_systDown)"
   ]
  },
  {
   "cell_type": "code",
   "execution_count": null,
   "metadata": {},
   "outputs": [],
   "source": [
    "hist_obs_awe2D_systUp = np.load(\"HiggsModels/hist_obs_awe2D_systUp.npy\")\n",
    "hist_obs_awe2D_systDown = np.load(\"HiggsModels/hist_obs_awe2D_systDown.npy\")"
   ]
  },
  {
   "cell_type": "code",
   "execution_count": 73,
   "metadata": {},
   "outputs": [
    {
     "name": "stdout",
     "output_type": "stream",
     "text": [
      "Min at mu,z:  1.0 1.1\n",
      "Min at mu,z:  1.0 0.8\n"
     ]
    }
   ],
   "source": [
    "nll2D_awe_systUp = computeNLL2D_aware(obs2D=hist_obs_awe2D_systUp, sH2d=sig_hists_awe, bH2d=back_hists_awe)\n",
    "nll2D_awe_systDown = computeNLL2D_aware(obs2D=hist_obs_awe2D_systDown, sH2d=sig_hists_awe, bH2d=back_hists_awe)"
   ]
  },
  {
   "cell_type": "code",
   "execution_count": 74,
   "metadata": {},
   "outputs": [
    {
     "data": {
      "image/png": "[encoded data removed]",
      "text/plain": [
       "<Figure size 432x288 with 2 Axes>"
      ]
     },
     "metadata": {
      "needs_background": "light"
     },
     "output_type": "display_data"
    }
   ],
   "source": [
    "plot2dNLL(nll2D=nll2D_awe_systUp, dataName=\"SystUp\", clfName=\"Awe\")\n",
    "#plt.savefig(plotDir + \"TwoD_NLL_{}_{}.pdf\".format(\"Awe\", \"SystUp\",))\n",
    "plt.show()"
   ]
  },
  {
   "cell_type": "code",
   "execution_count": 75,
   "metadata": {},
   "outputs": [],
   "source": [
    "nll1D_awe_systUp = nll2D_awe_systUp.min(axis=1)\n",
    "nll1D_awe_systDown = nll2D_awe_systDown.min(axis=1)"
   ]
  },
  {
   "cell_type": "markdown",
   "metadata": {},
   "source": [
    "# Invariant Model"
   ]
  },
  {
   "cell_type": "code",
   "execution_count": 76,
   "metadata": {},
   "outputs": [
    {
     "name": "stdout",
     "output_type": "stream",
     "text": [
      "Loading file:  /data1/users/aishik/systcovariant_data/HiggsML_TES_0.8.h5\n",
      "Loading file:  /data1/users/aishik/systcovariant_data/HiggsML_TES_0.84.h5\n",
      "Loading file:  /data1/users/aishik/systcovariant_data/HiggsML_TES_0.88.h5\n",
      "Loading file:  /data1/users/aishik/systcovariant_data/HiggsML_TES_0.89.h5\n",
      "Loading file:  /data1/users/aishik/systcovariant_data/HiggsML_TES_0.9.h5\n",
      "Loading file:  /data1/users/aishik/systcovariant_data/HiggsML_TES_0.91.h5\n",
      "Loading file:  /data1/users/aishik/systcovariant_data/HiggsML_TES_0.92.h5\n",
      "Loading file:  /data1/users/aishik/systcovariant_data/HiggsML_TES_0.93.h5\n",
      "Loading file:  /data1/users/aishik/systcovariant_data/HiggsML_TES_0.94.h5\n",
      "Loading file:  /data1/users/aishik/systcovariant_data/HiggsML_TES_0.95.h5\n",
      "Loading file:  /data1/users/aishik/systcovariant_data/HiggsML_TES_0.96.h5\n",
      "Loading file:  /data1/users/aishik/systcovariant_data/HiggsML_TES_0.97.h5\n",
      "Loading file:  /data1/users/aishik/systcovariant_data/HiggsML_TES_0.98.h5\n",
      "Loading file:  /data1/users/aishik/systcovariant_data/HiggsML_TES_0.99.h5\n",
      "Loading file:  /data1/users/aishik/systcovariant_data/HiggsML_TES_1.0.h5\n",
      "Loading file:  /data1/users/aishik/systcovariant_data/HiggsML_TES_1.01.h5\n",
      "Loading file:  /data1/users/aishik/systcovariant_data/HiggsML_TES_1.02.h5\n",
      "Loading file:  /data1/users/aishik/systcovariant_data/HiggsML_TES_1.03.h5\n",
      "Loading file:  /data1/users/aishik/systcovariant_data/HiggsML_TES_1.04.h5\n",
      "Loading file:  /data1/users/aishik/systcovariant_data/HiggsML_TES_1.05.h5\n",
      "Loading file:  /data1/users/aishik/systcovariant_data/HiggsML_TES_1.06.h5\n",
      "Loading file:  /data1/users/aishik/systcovariant_data/HiggsML_TES_1.07.h5\n",
      "Loading file:  /data1/users/aishik/systcovariant_data/HiggsML_TES_1.08.h5\n",
      "Loading file:  /data1/users/aishik/systcovariant_data/HiggsML_TES_1.09.h5\n",
      "Loading file:  /data1/users/aishik/systcovariant_data/HiggsML_TES_1.1.h5\n",
      "Loading file:  /data1/users/aishik/systcovariant_data/HiggsML_TES_1.11.h5\n",
      "Loading file:  /data1/users/aishik/systcovariant_data/HiggsML_TES_1.12.h5\n",
      "Loading file:  /data1/users/aishik/systcovariant_data/HiggsML_TES_1.13.h5\n",
      "Loading file:  /data1/users/aishik/systcovariant_data/HiggsML_TES_1.14.h5\n"
     ]
    }
   ],
   "source": [
    "if not loadAndPlot:\n",
    "    sig_hists_inv, back_hists_inv = buildTemplates(model=inv_model, clfName=\"Invariant\")"
   ]
  },
  {
   "cell_type": "code",
   "execution_count": 77,
   "metadata": {},
   "outputs": [],
   "source": [
    "if not loadAndPlot:\n",
    "    hist_obs_inv, bin_array = createHistObs(X=X_syst_test_nominal[nominalEvents],\n",
    "                                            Y_true=Y_syst_test_nominal[nominalEvents],\n",
    "                                            mu=mu_test,\n",
    "                                            weights=weights_test_nominal[nominalEvents], \n",
    "              model=inv_model)"
   ]
  },
  {
   "cell_type": "code",
   "execution_count": null,
   "metadata": {},
   "outputs": [],
   "source": [
    "if not loadAndPlot:\n",
    "    np.save(\"HiggsModels/InvSignalTemplates.npy\", sig_hists_inv)\n",
    "    np.save(\"HiggsModels/InvBackgroundTemplates.npy\", back_hists_inv)\n",
    "    np.save(\"HiggsModels/hist_obs_Inv.npy\", hist_obs_inv)"
   ]
  },
  {
   "cell_type": "code",
   "execution_count": null,
   "metadata": {},
   "outputs": [],
   "source": [
    "sig_hists_inv = np.load(\"HiggsModels/InvSignalTemplates.npy\", )\n",
    "back_hists_inv = np.load(\"HiggsModels/InvBackgroundTemplates.npy\", )\n",
    "hist_obs_inv = np.load(\"HiggsModels/hist_obs_Inv.npy\", )"
   ]
  },
  {
   "cell_type": "code",
   "execution_count": 78,
   "metadata": {},
   "outputs": [
    {
     "name": "stdout",
     "output_type": "stream",
     "text": [
      "Min at mu,z:  1.0 1.0\n"
     ]
    }
   ],
   "source": [
    "nll2D_inv_nom = computeNLL2D(obs1D=hist_obs_inv, sH2d=sig_hists_inv, bH2d=back_hists_inv)"
   ]
  },
  {
   "cell_type": "code",
   "execution_count": 79,
   "metadata": {},
   "outputs": [
    {
     "data": {
      "image/png": "[encoded data removed]",
      "text/plain": [
       "<Figure size 432x288 with 2 Axes>"
      ]
     },
     "metadata": {
      "needs_background": "light"
     },
     "output_type": "display_data"
    }
   ],
   "source": [
    "plot2dNLL(nll2D=nll2D_inv_nom, dataName=\"Nominal\", clfName=\"Inv\")\n",
    "#plt.savefig(plotDir + \"TwoD_NLL_{}_{}.pdf\".format(\"Inv\", \"Nominal\",))\n",
    "plt.show()"
   ]
  },
  {
   "cell_type": "code",
   "execution_count": 80,
   "metadata": {},
   "outputs": [],
   "source": [
    "nll1D_inv_nom = nll2D_inv_nom.min(axis=1)"
   ]
  },
  {
   "cell_type": "code",
   "execution_count": 81,
   "metadata": {},
   "outputs": [
    {
     "name": "stderr",
     "output_type": "stream",
     "text": [
      "/opt/anaconda3/envs/shared_env/lib/python3.6/site-packages/ipykernel_launcher.py:27: RuntimeWarning: invalid value encountered in true_divide\n",
      "/opt/anaconda3/envs/shared_env/lib/python3.6/site-packages/ipykernel_launcher.py:33: UserWarning: This figure includes Axes that are not compatible with tight_layout, so results might be incorrect.\n"
     ]
    },
    {
     "data": {
      "image/png": "[encoded data removed]",
      "text/plain": [
       "<Figure size 360x360 with 2 Axes>"
      ]
     },
     "metadata": {
      "needs_background": "light"
     },
     "output_type": "display_data"
    }
   ],
   "source": [
    "if mu_test==1:\n",
    "    xlim = [0.5,1.5] # mu=1 study\n",
    "elif mu_test==2:\n",
    "    xlim = [1.5,2.5] # mu=2 study\n",
    "else:\n",
    "    print(\"Unexpected mu value\")\n",
    "plotNLLCurves(x=mu_values, \n",
    "              y_list=[nll1D_aug_nom-nll1D_aug_nom.min(), nll1D_awe_nom-nll1D_awe_nom.min(), \n",
    "                      nll1D_inv_nom-nll1D_inv_nom.min(), nll1D_clf_nom-nll1D_clf_nom.min()],\n",
    "                label_list=[\"Data Augmentation\", \"Uncertainty Aware\", \"Adversarial\",\"Baseline\", ], \n",
    "                color_list=[augCol, aweCol, invCol,clfCol,], \n",
    "                linestyle_list=[\"solid\", \"solid\", \"solid\", \"dotted\", ], \n",
    "              testDataLabel = \"Nominal\", ylimRatio=[0.75, 1.25], xlim=xlim,\n",
    "              legendOrder=[3,1,2,0])\n",
    "#plt.savefig(plotDir + \"NLL_all_on_nominal.pdf\", bbox_inches='tight',pad_inches = 0)\n",
    "plt.show()"
   ]
  },
  {
   "cell_type": "code",
   "execution_count": 82,
   "metadata": {},
   "outputs": [],
   "source": [
    "if not loadAndPlot:\n",
    "    hist_obs_inv_systUp, bin_array = createHistObs(X=X_syst_test_systUp[systUpEvents],\n",
    "                                                   Y_true=Y_syst_test_systUp[systUpEvents],\n",
    "                                                   mu=mu_test,\n",
    "                                                   weights=weights_test_systUp[systUpEvents], \n",
    "              model=inv_model)\n",
    "    hist_obs_inv_systDown, bin_array = createHistObs(X=X_syst_test_systDown[systDownEvents],\n",
    "                                                     Y_true=Y_syst_test_systDown[systDownEvents],\n",
    "                                                     mu=mu_test,\n",
    "                                                      weights=weights_test_systDown[systDownEvents], \n",
    "              model=inv_model)"
   ]
  },
  {
   "cell_type": "raw",
   "metadata": {},
   "source": [
    "if not loadAndPlot:\n",
    "    np.save(\"HiggsModels/hist_obs_inv_systUp.npy\", hist_obs_inv_systUp)\n",
    "    np.save(\"HiggsModels/hist_obs_inv_systDown.npy\", hist_obs_inv_systDown)"
   ]
  },
  {
   "cell_type": "code",
   "execution_count": null,
   "metadata": {},
   "outputs": [],
   "source": [
    "hist_obs_inv_systUp = np.load(\"HiggsModels/hist_obs_inv_systUp.npy\", )\n",
    "hist_obs_inv_systDown = np.load(\"HiggsModels/hist_obs_inv_systDown.npy\", )"
   ]
  },
  {
   "cell_type": "code",
   "execution_count": 83,
   "metadata": {},
   "outputs": [
    {
     "name": "stdout",
     "output_type": "stream",
     "text": [
      "Min at mu,z:  1.0 1.1\n",
      "Min at mu,z:  1.0 0.8\n"
     ]
    }
   ],
   "source": [
    "nll2D_inv_systUp = computeNLL2D(obs1D=hist_obs_inv_systUp, sH2d=sig_hists_inv, bH2d=back_hists_inv)\n",
    "nll2D_inv_systDown = computeNLL2D(obs1D=hist_obs_inv_systDown, sH2d=sig_hists_inv, bH2d=back_hists_inv)\n",
    "\n",
    "nll1D_inv_systUp = nll2D_inv_systUp.min(axis=1)\n",
    "nll1D_inv_systDown = nll2D_inv_systDown.min(axis=1)"
   ]
  },
  {
   "cell_type": "code",
   "execution_count": 84,
   "metadata": {},
   "outputs": [
    {
     "data": {
      "image/png": "[encoded data removed]",
      "text/plain": [
       "<Figure size 432x288 with 2 Axes>"
      ]
     },
     "metadata": {
      "needs_background": "light"
     },
     "output_type": "display_data"
    }
   ],
   "source": [
    "plot2dNLL(nll2D=nll2D_inv_systUp, dataName=\"SystUp\", clfName=\"Inv\") \n",
    "#plt.savefig(plotDir + \"TwoD_NLL_{}_{}.pdf\".format(\"Inv\", \"SystUp\",))\n",
    "plt.show()"
   ]
  },
  {
   "cell_type": "code",
   "execution_count": 85,
   "metadata": {},
   "outputs": [
    {
     "name": "stderr",
     "output_type": "stream",
     "text": [
      "/opt/anaconda3/envs/shared_env/lib/python3.6/site-packages/ipykernel_launcher.py:27: RuntimeWarning: invalid value encountered in true_divide\n",
      "/opt/anaconda3/envs/shared_env/lib/python3.6/site-packages/ipykernel_launcher.py:33: UserWarning: This figure includes Axes that are not compatible with tight_layout, so results might be incorrect.\n"
     ]
    },
    {
     "data": {
      "image/png": "[encoded data removed]",
      "text/plain": [
       "<Figure size 360x360 with 2 Axes>"
      ]
     },
     "metadata": {
      "needs_background": "light"
     },
     "output_type": "display_data"
    }
   ],
   "source": [
    "plotNLLCurves(x=mu_values, \n",
    "              y_list=[nll1D_clf_systUp-nll1D_clf_systUp.min(), nll1D_aug_systUp-nll1D_aug_systUp.min(),\n",
    "                      nll1D_awe_systUp-nll1D_awe_systUp.min(), nll1D_inv_systUp-nll1D_inv_systUp.min(),\n",
    "                      nll1D_up_systUp-nll1D_up_systUp.min()],\n",
    "                label_list=[ \"Baseline\", \"Data Augmentation\", \"Uncertainty Aware\", \"Adversarial\", \"Trained on true Z\" ], \n",
    "                color_list=[clfCol, augCol, aweCol,  invCol, clfNomCol], \n",
    "                linestyle_list=[\"solid\", \"solid\", \"solid\", \"solid\", \"dotted\"], \n",
    "              testDataLabel = \"systUp\", ylimRatio=[0.75, 1.25], xlim=xlim,\n",
    "             legendOrder=[4,2,0,3,1]) # legend order tells you which plot should come first, then next, next, ...\n",
    "#plt.savefig(plotDir + \"NLL_all_on_systUp.pdf\", bbox_inches='tight',pad_inches = 0)\n",
    "plt.show()"
   ]
  },
  {
   "cell_type": "code",
   "execution_count": 86,
   "metadata": {},
   "outputs": [
    {
     "name": "stderr",
     "output_type": "stream",
     "text": [
      "/opt/anaconda3/envs/shared_env/lib/python3.6/site-packages/ipykernel_launcher.py:27: RuntimeWarning: invalid value encountered in true_divide\n",
      "/opt/anaconda3/envs/shared_env/lib/python3.6/site-packages/ipykernel_launcher.py:33: UserWarning: This figure includes Axes that are not compatible with tight_layout, so results might be incorrect.\n"
     ]
    },
    {
     "data": {
      "image/png": "[encoded data removed]",
      "text/plain": [
       "<Figure size 360x360 with 2 Axes>"
      ]
     },
     "metadata": {
      "needs_background": "light"
     },
     "output_type": "display_data"
    }
   ],
   "source": [
    "plotNLLCurves(x=mu_values, \n",
    "              y_list=[nll1D_clf_systDown-nll1D_clf_systDown.min(), nll1D_aug_systDown-nll1D_aug_systDown.min(),\n",
    "                      nll1D_awe_systDown-nll1D_awe_systDown.min(), nll1D_inv_systDown-nll1D_inv_systDown.min(),\n",
    "                      nll1D_down_systDown-nll1D_down_systDown.min()],\n",
    "                label_list=[ \"Baseline\", \"Data Augmentation\", \"Uncertainty Aware\", \"Adversarial\", \"Trained on true Z\" ],\n",
    "                color_list=[ clfCol, augCol, aweCol, invCol, clfNomCol,], \n",
    "                linestyle_list=[\"solid\", \"solid\", \"solid\", \"solid\", \"dotted\" ],\n",
    "              testDataLabel = \"systDown\", ylimRatio=[0.74, 1.26], xlim=xlim,\n",
    "             legendOrder=[4,2,0,3,1])\n",
    "#plt.savefig(plotDir + \"NLL_all_on_systDown.pdf\", bbox_inches='tight',pad_inches = 0)\n",
    "plt.show()"
   ]
  }
 ],
 "metadata": {
  "kernelspec": {
   "display_name": "Python 2",
   "language": "python",
   "name": "python2"
  },
  "language_info": {
   "codemirror_mode": {
    "name": "ipython",
    "version": 3
   },
   "file_extension": ".py",
   "mimetype": "text/x-python",
   "name": "python",
   "nbconvert_exporter": "python",
   "pygments_lexer": "ipython3",
   "version": "3.6.5"
  },
  "toc": {
   "nav_menu": {},
   "number_sections": true,
   "sideBar": true,
   "skip_h1_title": false,
   "toc_cell": false,
   "toc_position": {},
   "toc_section_display": "block",
   "toc_window_display": false
  },
  "varInspector": {
   "cols": {
    "lenName": 16,
    "lenType": 16,
    "lenVar": 40
   },
   "kernels_config": {
    "python": {
     "delete_cmd_postfix": "",
     "delete_cmd_prefix": "del ",
     "library": "var_list.py",
     "varRefreshCmd": "print(var_dic_list())"
    },
    "r": {
     "delete_cmd_postfix": ") ",
     "delete_cmd_prefix": "rm(",
     "library": "var_list.r",
     "varRefreshCmd": "cat(var_dic_list()) "
    }
   },
   "types_to_exclude": [
    "module",
    "function",
    "builtin_function_or_method",
    "instance",
    "_Feature"
   ],
   "window_display": false
  }
 },
 "nbformat": 4,
 "nbformat_minor": 2
}
